{
 "cells": [
  {
   "cell_type": "code",
   "execution_count": 1,
   "metadata": {},
   "outputs": [
    {
     "name": "stdout",
     "output_type": "stream",
     "text": [
      "Sql Alchemy version is : 1.2.14\n",
      "PyMySQL version is : 0.9.2\n"
     ]
    }
   ],
   "source": [
    "# SQL Alchemy\n",
    "import sqlalchemy\n",
    "# PyMySQL \n",
    "import pymysql\n",
    "\n",
    "print (\"Sql Alchemy version is : \" + sqlalchemy.__version__)\n",
    "print (\"PyMySQL version is : \" + pymysql.__version__)"
   ]
  }
 ],
 "metadata": {
  "kernelspec": {
   "display_name": "Python 3",
   "language": "python",
   "name": "python3"
  },
  "language_info": {
   "codemirror_mode": {
    "name": "ipython",
    "version": 3
   },
   "file_extension": ".py",
   "mimetype": "text/x-python",
   "name": "python",
   "nbconvert_exporter": "python",
   "pygments_lexer": "ipython3",
   "version": "3.7.0"
  }
 },
 "nbformat": 4,
 "nbformat_minor": 2
}
